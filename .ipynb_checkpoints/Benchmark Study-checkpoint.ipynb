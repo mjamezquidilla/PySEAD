{
 "cells": [
  {
   "cell_type": "code",
   "execution_count": null,
   "metadata": {},
   "outputs": [
    {
     "evalue": "Error: Activating Python 3.7.4 64-bit to run Jupyter failed with Error: Command failed: C:\\Users\\MJCQuidilla\\Anaconda3\\activate base && echo 'e8b39361-0157-4923-80e1-22d70d46dee6' && python c:/Users/MJCQuidilla/.vscode/extensions/ms-python.python-2020.1.58038/pythonFiles/printEnvVariables.py\n'C:\\Users\\MJCQuidilla\\Anaconda3\\activate' is not recognized as an internal or external command,\r\noperable program or batch file.\r\n.",
     "output_type": "error"
    }
   ],
   "source": [
    "from Truss_2D import Truss_2D"
   ]
  },
  {
   "cell_type": "markdown",
   "metadata": {},
   "source": [
    "# Six Bar Truss \n",
    "### Steel truss optimization using genetic algorithms and FEA\n",
    "authors: Razvan Cazacu, Lucian Grama Petru"
   ]
  },
  {
   "cell_type": "code",
   "execution_count": null,
   "metadata": {},
   "outputs": [
    {
     "evalue": "Error: Activating Python 3.7.4 64-bit to run Jupyter failed with Error: Command failed: C:\\Users\\MJCQuidilla\\Anaconda3\\activate base && echo 'e8b39361-0157-4923-80e1-22d70d46dee6' && python c:/Users/MJCQuidilla/.vscode/extensions/ms-python.python-2020.1.58038/pythonFiles/printEnvVariables.py\n'C:\\Users\\MJCQuidilla\\Anaconda3\\activate' is not recognized as an internal or external command,\r\noperable program or batch file.\r\n.",
     "output_type": "error"
    }
   ],
   "source": [
    "nodes = {1: [0,0], 2:[9,0], 3:[18,0], 4:[0,9], 5:[9,9], 6:[18,9]}\n",
    "members = {1:[1,2], 2:[2,3], 3:[4,5], 4:[5,6], 5:[4,2], 6:[1,5], 7:[5,3], 8:[2,6], 9:[1,4], 10:[2,5], 11:[3,6]}\n",
    "supports = {1:[1,1], 4:[1,1]}\n",
    "forces = {2:[0,-450], 3:[0,-450]}\n",
    "elasticity = {key: 130e6 for key in members}\n",
    "cross_section_area = {key:0.001 for key in members}"
   ]
  },
  {
   "cell_type": "code",
   "execution_count": null,
   "metadata": {},
   "outputs": [
    {
     "evalue": "Error: Activating Python 3.7.4 64-bit to run Jupyter failed with Error: Command failed: C:\\Users\\MJCQuidilla\\Anaconda3\\activate base && echo 'e8b39361-0157-4923-80e1-22d70d46dee6' && python c:/Users/MJCQuidilla/.vscode/extensions/ms-python.python-2020.1.58038/pythonFiles/printEnvVariables.py\n'C:\\Users\\MJCQuidilla\\Anaconda3\\activate' is not recognized as an internal or external command,\r\noperable program or batch file.\r\n.",
     "output_type": "error"
    }
   ],
   "source": [
    "Six_bar_truss = Truss_2D(nodes = nodes,\n",
    "                         elements = members,\n",
    "                         supports = supports,\n",
    "                         forces = forces,\n",
    "                         elasticity = elasticity,\n",
    "                         cross_area = cross_section_area)"
   ]
  },
  {
   "cell_type": "code",
   "execution_count": null,
   "metadata": {},
   "outputs": [
    {
     "evalue": "Error: Activating Python 3.7.4 64-bit to run Jupyter failed with Error: Command failed: C:\\Users\\MJCQuidilla\\Anaconda3\\activate base && echo 'e8b39361-0157-4923-80e1-22d70d46dee6' && python c:/Users/MJCQuidilla/.vscode/extensions/ms-python.python-2020.1.58038/pythonFiles/printEnvVariables.py\n'C:\\Users\\MJCQuidilla\\Anaconda3\\activate' is not recognized as an internal or external command,\r\noperable program or batch file.\r\n.",
     "output_type": "error"
    }
   ],
   "source": [
    "Six_bar_truss.Draw_Truss_Setup(figure_size=[16,8])"
   ]
  },
  {
   "cell_type": "code",
   "execution_count": 5,
   "metadata": {},
   "outputs": [
    {
     "name": "stdout",
     "output_type": "stream",
     "text": [
      "Truss Solved\n"
     ]
    }
   ],
   "source": [
    "Six_bar_truss.Solve()"
   ]
  },
  {
   "cell_type": "code",
   "execution_count": 6,
   "metadata": {},
   "outputs": [
    {
     "data": {
      "text/plain": [
       "{1: [0.0, 0.0],\n",
       " 2: [-0.06375, -0.15595],\n",
       " 3: [-0.08241, -0.34092],\n",
       " 4: [0.0, 0.0],\n",
       " 5: [0.06086, -0.1449],\n",
       " 6: [0.07336, -0.32842]}"
      ]
     },
     "execution_count": 6,
     "metadata": {},
     "output_type": "execute_result"
    }
   ],
   "source": [
    "Six_bar_truss.displacements_"
   ]
  },
  {
   "cell_type": "code",
   "execution_count": 7,
   "metadata": {},
   "outputs": [
    {
     "data": {
      "text/plain": [
       "{1: -920.83333,\n",
       " 2: -269.53333,\n",
       " 3: 879.08889,\n",
       " 4: 180.55556,\n",
       " 5: 665.88889,\n",
       " 6: -606.95556,\n",
       " 7: 380.97222,\n",
       " 8: -255.37778,\n",
       " 9: 0.0,\n",
       " 10: 159.61111,\n",
       " 11: 180.55556}"
      ]
     },
     "execution_count": 7,
     "metadata": {},
     "output_type": "execute_result"
    }
   ],
   "source": [
    "Six_bar_truss.member_forces_"
   ]
  },
  {
   "cell_type": "code",
   "execution_count": 8,
   "metadata": {},
   "outputs": [
    {
     "data": {
      "text/plain": [
       "{1: [1350.0, 429.0], 4: [-1350.0, 471.0]}"
      ]
     },
     "execution_count": 8,
     "metadata": {},
     "output_type": "execute_result"
    }
   ],
   "source": [
    "Six_bar_truss.reactions_"
   ]
  },
  {
   "cell_type": "code",
   "execution_count": 9,
   "metadata": {},
   "outputs": [
    {
     "data": {
      "text/plain": [
       "{1: -920833.0,\n",
       " 2: -269533.0,\n",
       " 3: 879089.0,\n",
       " 4: 180556.0,\n",
       " 5: 665889.0,\n",
       " 6: -606956.0,\n",
       " 7: 380972.0,\n",
       " 8: -255378.0,\n",
       " 9: 0.0,\n",
       " 10: 159611.0,\n",
       " 11: 180556.0}"
      ]
     },
     "execution_count": 9,
     "metadata": {},
     "output_type": "execute_result"
    }
   ],
   "source": [
    "Six_bar_truss.member_stresses_"
   ]
  },
  {
   "cell_type": "markdown",
   "metadata": {},
   "source": [
    "# Ten Bar Truss \n",
    "### Steel truss optimization using genetic algorithms and FEA\n",
    "authors: Razvan Cazacu, Lucian Grama Petru"
   ]
  },
  {
   "cell_type": "code",
   "execution_count": 10,
   "metadata": {},
   "outputs": [],
   "source": [
    "nodes = {1:[0,0], 2:[6,0], 3:[12,0], 4:[18,0], 5:[24,0],\n",
    "         6:[0,6], 7:[6,6], 8:[12,6], 9:[18,6], 10:[24,6]}\n",
    "members = {1:[1,2], 2:[2,3], 3:[3,4], 4:[4,5],\n",
    "           5:[6,7], 6:[7,8], 7:[8,9], 8:[9,10],\n",
    "           9:[6,2], 10:[7,3], 11:[8,4], 12:[9,5], \n",
    "           13:[1,7], 14:[2,8], 15:[3,9], 16:[4,10],\n",
    "           17:[1,6], 18:[2,7], 19:[3,8], 20:[4,9], 21:[5,10]}\n",
    "supports = {1:[1,1], 5:[1,1]}\n",
    "forces = {6:[0,-50], 7:[0,-100], 8:[0,-100], 9:[0,-100], 10:[0,-50]}\n",
    "elasticity = {key: 200e6 for key in members}\n",
    "cross_section_area = {key:0.001 for key in members}"
   ]
  },
  {
   "cell_type": "code",
   "execution_count": 11,
   "metadata": {},
   "outputs": [],
   "source": [
    "Ten_bar_truss = Truss_2D(nodes = nodes,\n",
    "                         elements = members,\n",
    "                         supports = supports,\n",
    "                         forces = forces,\n",
    "                         elasticity = elasticity,\n",
    "                         cross_area = cross_section_area)"
   ]
  },
  {
   "cell_type": "code",
   "execution_count": 13,
   "metadata": {},
   "outputs": [
    {
     "data": {
      "image/png": "[encoded data removed]",
      "text/plain": [
       "<Figure size 1152x576 with 1 Axes>"
      ]
     },
     "metadata": {
      "needs_background": "light"
     },
     "output_type": "display_data"
    }
   ],
   "source": [
    "Ten_bar_truss.Draw_Truss_Setup(figure_size=[16,8])"
   ]
  },
  {
   "cell_type": "code",
   "execution_count": 14,
   "metadata": {},
   "outputs": [
    {
     "name": "stdout",
     "output_type": "stream",
     "text": [
      "Truss Solved\n"
     ]
    }
   ],
   "source": [
    "Ten_bar_truss.Solve()"
   ]
  },
  {
   "cell_type": "code",
   "execution_count": 15,
   "metadata": {},
   "outputs": [
    {
     "data": {
      "text/plain": [
       "{1: [151.0, 200.0], 5: [-151.0, 200.0]}"
      ]
     },
     "execution_count": 15,
     "metadata": {},
     "output_type": "execute_result"
    }
   ],
   "source": [
    "Ten_bar_truss.reactions_"
   ]
  },
  {
   "cell_type": "code",
   "execution_count": 16,
   "metadata": {},
   "outputs": [
    {
     "data": {
      "text/plain": [
       "{1: [0.0, 0.0],\n",
       " 2: [-0.00133, -0.01375],\n",
       " 3: [-0.0, -0.01869],\n",
       " 4: [0.00133, -0.01375],\n",
       " 5: [0.0, 0.0],\n",
       " 6: [0.00593, -0.0028],\n",
       " 7: [0.00463, -0.01368],\n",
       " 8: [-0.0, -0.01895],\n",
       " 9: [-0.00463, -0.01368],\n",
       " 10: [-0.00593, -0.0028]}"
      ]
     },
     "execution_count": 16,
     "metadata": {},
     "output_type": "execute_result"
    }
   ],
   "source": [
    "Ten_bar_truss.displacements_"
   ]
  },
  {
   "cell_type": "code",
   "execution_count": 17,
   "metadata": {},
   "outputs": [
    {
     "data": {
      "text/plain": [
       "{1: -44.33333,\n",
       " 2: 44.33333,\n",
       " 3: 44.33333,\n",
       " 4: -44.33333,\n",
       " 5: -43.33333,\n",
       " 6: -154.33333,\n",
       " 7: -154.33333,\n",
       " 8: -43.33333,\n",
       " 9: 61.5,\n",
       " 10: 6.33333,\n",
       " 11: -64.5,\n",
       " 12: -150.83333,\n",
       " 13: -150.83333,\n",
       " 14: -64.5,\n",
       " 15: 6.33333,\n",
       " 16: 61.5,\n",
       " 17: -93.33333,\n",
       " 18: 2.33333,\n",
       " 19: -8.66667,\n",
       " 20: 2.33333,\n",
       " 21: -93.33333}"
      ]
     },
     "execution_count": 17,
     "metadata": {},
     "output_type": "execute_result"
    }
   ],
   "source": [
    "Ten_bar_truss.member_forces_"
   ]
  },
  {
   "cell_type": "code",
   "execution_count": 18,
   "metadata": {},
   "outputs": [
    {
     "data": {
      "text/plain": [
       "{1: -44333.0,\n",
       " 2: 44333.0,\n",
       " 3: 44333.0,\n",
       " 4: -44333.0,\n",
       " 5: -43333.0,\n",
       " 6: -154333.0,\n",
       " 7: -154333.0,\n",
       " 8: -43333.0,\n",
       " 9: 61500.0,\n",
       " 10: 6333.0,\n",
       " 11: -64500.0,\n",
       " 12: -150833.0,\n",
       " 13: -150833.0,\n",
       " 14: -64500.0,\n",
       " 15: 6333.0,\n",
       " 16: 61500.0,\n",
       " 17: -93333.0,\n",
       " 18: 2333.0,\n",
       " 19: -8667.0,\n",
       " 20: 2333.0,\n",
       " 21: -93333.0}"
      ]
     },
     "execution_count": 18,
     "metadata": {},
     "output_type": "execute_result"
    }
   ],
   "source": [
    "Ten_bar_truss.member_stresses_"
   ]
  },
  {
   "cell_type": "code",
   "execution_count": null,
   "metadata": {},
   "outputs": [],
   "source": []
  }
 ],
 "metadata": {
  "kernelspec": {
   "display_name": "Python 3",
   "language": "python",
   "name": "python3"
  },
  "language_info": {
   "codemirror_mode": {
    "name": "ipython",
    "version": 3
   },
   "file_extension": ".py",
   "mimetype": "text/x-python",
   "name": "python",
   "nbconvert_exporter": "python",
   "pygments_lexer": "ipython3",
   "version": "3.7.4"
  }
 },
 "nbformat": 4,
 "nbformat_minor": 4
}