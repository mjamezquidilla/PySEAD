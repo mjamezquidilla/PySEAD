{
 "cells": [
  {
   "cell_type": "code",
   "execution_count": 7,
   "metadata": {},
   "outputs": [
    {
     "data": {
      "application/vnd.jupyter.widget-view+json": {
       "model_id": "cded204e7db044ce9c048ea28dd472e6",
       "version_major": 2,
       "version_minor": 0
      },
      "text/plain": [
       "Canvas(toolbar=Toolbar(toolitems=[('Home', 'Reset original view', 'home', 'home'), ('Back', 'Back to previous …"
      ]
     },
     "metadata": {},
     "output_type": "display_data"
    }
   ],
   "source": [
    "VecStart_x = [0,1,3,5]\n",
    "VecStart_y = [2,2,5,5]\n",
    "VecStart_z = [0,1,1,5]\n",
    "VecEnd_x = [1,2,-1,6]\n",
    "VecEnd_y = [3,1,-2,7]\n",
    "VecEnd_z  =[1,0,4,9]\n",
    "\n",
    "import matplotlib.pyplot as plt\n",
    "from mpl_toolkits.mplot3d import Axes3D\n",
    "%matplotlib widget\n",
    "\n",
    "fig = plt.figure()\n",
    "ax = fig.add_subplot(111, projection='3d')\n",
    "\n",
    "for i in range(4):\n",
    "    ax.plot([VecStart_x[i], VecEnd_x[i]], [VecStart_y[i],VecEnd_y[i]],zs=[VecStart_z[i],VecEnd_z[i]])\n",
    "\n"
   ]
  },
  {
   "cell_type": "code",
   "execution_count": 3,
   "metadata": {},
   "outputs": [
    {
     "name": "stdout",
     "output_type": "stream",
     "text": [
      "Collecting ipympl\n",
      "  Downloading ipympl-0.5.6-py2.py3-none-any.whl (454 kB)\n",
      "Requirement already satisfied: ipywidgets>=7.5.0 in c:\\users\\mjcquidilla\\anaconda3\\lib\\site-packages (from ipympl) (7.5.1)\n",
      "Requirement already satisfied: matplotlib>=2.0.0 in c:\\users\\mjcquidilla\\anaconda3\\lib\\site-packages (from ipympl) (3.1.3)\n",
      "Requirement already satisfied: ipykernel>=4.7 in c:\\users\\mjcquidilla\\anaconda3\\lib\\site-packages (from ipympl) (5.1.4)\n",
      "Requirement already satisfied: traitlets>=4.3.1 in c:\\users\\mjcquidilla\\anaconda3\\lib\\site-packages (from ipywidgets>=7.5.0->ipympl) (4.3.3)\n",
      "Requirement already satisfied: nbformat>=4.2.0 in c:\\users\\mjcquidilla\\anaconda3\\lib\\site-packages (from ipywidgets>=7.5.0->ipympl) (5.0.4)\n",
      "Requirement already satisfied: widgetsnbextension~=3.5.0 in c:\\users\\mjcquidilla\\anaconda3\\lib\\site-packages (from ipywidgets>=7.5.0->ipympl) (3.5.1)\n",
      "Requirement already satisfied: ipython>=4.0.0; python_version >= \"3.3\" in c:\\users\\mjcquidilla\\anaconda3\\lib\\site-packages (from ipywidgets>=7.5.0->ipympl) (7.12.0)\n",
      "Requirement already satisfied: kiwisolver>=1.0.1 in c:\\users\\mjcquidilla\\anaconda3\\lib\\site-packages (from matplotlib>=2.0.0->ipympl) (1.1.0)\n",
      "Requirement already satisfied: python-dateutil>=2.1 in c:\\users\\mjcquidilla\\anaconda3\\lib\\site-packages (from matplotlib>=2.0.0->ipympl) (2.8.1)\n",
      "Requirement already satisfied: cycler>=0.10 in c:\\users\\mjcquidilla\\anaconda3\\lib\\site-packages (from matplotlib>=2.0.0->ipympl) (0.10.0)\n",
      "Requirement already satisfied: pyparsing!=2.0.4,!=2.1.2,!=2.1.6,>=2.0.1 in c:\\users\\mjcquidilla\\anaconda3\\lib\\site-packages (from matplotlib>=2.0.0->ipympl) (2.4.6)\n",
      "Requirement already satisfied: numpy>=1.11 in c:\\users\\mjcquidilla\\anaconda3\\lib\\site-packages (from matplotlib>=2.0.0->ipympl) (1.18.1)\n",
      "Requirement already satisfied: tornado>=4.2 in c:\\users\\mjcquidilla\\anaconda3\\lib\\site-packages (from ipykernel>=4.7->ipympl) (6.0.3)\n",
      "Requirement already satisfied: jupyter-client in c:\\users\\mjcquidilla\\anaconda3\\lib\\site-packages (from ipykernel>=4.7->ipympl) (5.3.4)\n",
      "Requirement already satisfied: ipython-genutils in c:\\users\\mjcquidilla\\anaconda3\\lib\\site-packages (from traitlets>=4.3.1->ipywidgets>=7.5.0->ipympl) (0.2.0)\n",
      "Requirement already satisfied: decorator in c:\\users\\mjcquidilla\\anaconda3\\lib\\site-packages (from traitlets>=4.3.1->ipywidgets>=7.5.0->ipympl) (4.4.1)\n",
      "Requirement already satisfied: six in c:\\users\\mjcquidilla\\anaconda3\\lib\\site-packages (from traitlets>=4.3.1->ipywidgets>=7.5.0->ipympl) (1.14.0)\n",
      "Requirement already satisfied: jsonschema!=2.5.0,>=2.4 in c:\\users\\mjcquidilla\\anaconda3\\lib\\site-packages (from nbformat>=4.2.0->ipywidgets>=7.5.0->ipympl) (3.2.0)\n",
      "Requirement already satisfied: jupyter-core in c:\\users\\mjcquidilla\\anaconda3\\lib\\site-packages (from nbformat>=4.2.0->ipywidgets>=7.5.0->ipympl) (4.6.1)\n",
      "Requirement already satisfied: notebook>=4.4.1 in c:\\users\\mjcquidilla\\anaconda3\\lib\\site-packages (from widgetsnbextension~=3.5.0->ipywidgets>=7.5.0->ipympl) (6.0.3)\n",
      "Requirement already satisfied: prompt-toolkit!=3.0.0,!=3.0.1,<3.1.0,>=2.0.0 in c:\\users\\mjcquidilla\\anaconda3\\lib\\site-packages (from ipython>=4.0.0; python_version >= \"3.3\"->ipywidgets>=7.5.0->ipympl) (3.0.3)\n",
      "Requirement already satisfied: pygments in c:\\users\\mjcquidilla\\anaconda3\\lib\\site-packages (from ipython>=4.0.0; python_version >= \"3.3\"->ipywidgets>=7.5.0->ipympl) (2.5.2)\n",
      "Requirement already satisfied: backcall in c:\\users\\mjcquidilla\\anaconda3\\lib\\site-packages (from ipython>=4.0.0; python_version >= \"3.3\"->ipywidgets>=7.5.0->ipympl) (0.1.0)\n",
      "Requirement already satisfied: jedi>=0.10 in c:\\users\\mjcquidilla\\anaconda3\\lib\\site-packages (from ipython>=4.0.0; python_version >= \"3.3\"->ipywidgets>=7.5.0->ipympl) (0.16.0)\n",
      "Requirement already satisfied: colorama; sys_platform == \"win32\" in c:\\users\\mjcquidilla\\anaconda3\\lib\\site-packages (from ipython>=4.0.0; python_version >= \"3.3\"->ipywidgets>=7.5.0->ipympl) (0.4.3)\n",
      "Requirement already satisfied: setuptools>=18.5 in c:\\users\\mjcquidilla\\anaconda3\\lib\\site-packages (from ipython>=4.0.0; python_version >= \"3.3\"->ipywidgets>=7.5.0->ipympl) (45.2.0.post20200210)\n",
      "Requirement already satisfied: pickleshare in c:\\users\\mjcquidilla\\anaconda3\\lib\\site-packages (from ipython>=4.0.0; python_version >= \"3.3\"->ipywidgets>=7.5.0->ipympl) (0.7.5)\n",
      "Requirement already satisfied: pywin32>=1.0; sys_platform == \"win32\" in c:\\users\\mjcquidilla\\anaconda3\\lib\\site-packages (from jupyter-client->ipykernel>=4.7->ipympl) (227)\n",
      "Requirement already satisfied: pyzmq>=13 in c:\\users\\mjcquidilla\\anaconda3\\lib\\site-packages (from jupyter-client->ipykernel>=4.7->ipympl) (18.1.1)\n",
      "Requirement already satisfied: pyrsistent>=0.14.0 in c:\\users\\mjcquidilla\\anaconda3\\lib\\site-packages (from jsonschema!=2.5.0,>=2.4->nbformat>=4.2.0->ipywidgets>=7.5.0->ipympl) (0.15.7)\n",
      "Requirement already satisfied: attrs>=17.4.0 in c:\\users\\mjcquidilla\\anaconda3\\lib\\site-packages (from jsonschema!=2.5.0,>=2.4->nbformat>=4.2.0->ipywidgets>=7.5.0->ipympl) (19.3.0)\n",
      "Requirement already satisfied: importlib-metadata; python_version < \"3.8\" in c:\\users\\mjcquidilla\\anaconda3\\lib\\site-packages (from jsonschema!=2.5.0,>=2.4->nbformat>=4.2.0->ipywidgets>=7.5.0->ipympl) (1.5.0)\n",
      "Requirement already satisfied: prometheus-client in c:\\users\\mjcquidilla\\anaconda3\\lib\\site-packages (from notebook>=4.4.1->widgetsnbextension~=3.5.0->ipywidgets>=7.5.0->ipympl) (0.7.1)\n",
      "Requirement already satisfied: nbconvert in c:\\users\\mjcquidilla\\anaconda3\\lib\\site-packages (from notebook>=4.4.1->widgetsnbextension~=3.5.0->ipywidgets>=7.5.0->ipympl) (5.6.1)\n",
      "Requirement already satisfied: Send2Trash in c:\\users\\mjcquidilla\\anaconda3\\lib\\site-packages (from notebook>=4.4.1->widgetsnbextension~=3.5.0->ipywidgets>=7.5.0->ipympl) (1.5.0)\n",
      "Requirement already satisfied: jinja2 in c:\\users\\mjcquidilla\\anaconda3\\lib\\site-packages (from notebook>=4.4.1->widgetsnbextension~=3.5.0->ipywidgets>=7.5.0->ipympl) (2.11.1)\n",
      "Requirement already satisfied: terminado>=0.8.1 in c:\\users\\mjcquidilla\\anaconda3\\lib\\site-packages (from notebook>=4.4.1->widgetsnbextension~=3.5.0->ipywidgets>=7.5.0->ipympl) (0.8.3)\n",
      "Requirement already satisfied: wcwidth in c:\\users\\mjcquidilla\\anaconda3\\lib\\site-packages (from prompt-toolkit!=3.0.0,!=3.0.1,<3.1.0,>=2.0.0->ipython>=4.0.0; python_version >= \"3.3\"->ipywidgets>=7.5.0->ipympl) (0.1.8)\n",
      "Requirement already satisfied: parso>=0.5.2 in c:\\users\\mjcquidilla\\anaconda3\\lib\\site-packages (from jedi>=0.10->ipython>=4.0.0; python_version >= \"3.3\"->ipywidgets>=7.5.0->ipympl) (0.6.1)\n",
      "Requirement already satisfied: zipp>=0.5 in c:\\users\\mjcquidilla\\anaconda3\\lib\\site-packages (from importlib-metadata; python_version < \"3.8\"->jsonschema!=2.5.0,>=2.4->nbformat>=4.2.0->ipywidgets>=7.5.0->ipympl) (2.2.0)\n",
      "Requirement already satisfied: entrypoints>=0.2.2 in c:\\users\\mjcquidilla\\anaconda3\\lib\\site-packages (from nbconvert->notebook>=4.4.1->widgetsnbextension~=3.5.0->ipywidgets>=7.5.0->ipympl) (0.3)\n",
      "Requirement already satisfied: pandocfilters>=1.4.1 in c:\\users\\mjcquidilla\\anaconda3\\lib\\site-packages (from nbconvert->notebook>=4.4.1->widgetsnbextension~=3.5.0->ipywidgets>=7.5.0->ipympl) (1.4.2)\n",
      "Requirement already satisfied: bleach in c:\\users\\mjcquidilla\\anaconda3\\lib\\site-packages (from nbconvert->notebook>=4.4.1->widgetsnbextension~=3.5.0->ipywidgets>=7.5.0->ipympl) (3.1.0)\n",
      "Requirement already satisfied: mistune<2,>=0.8.1 in c:\\users\\mjcquidilla\\anaconda3\\lib\\site-packages (from nbconvert->notebook>=4.4.1->widgetsnbextension~=3.5.0->ipywidgets>=7.5.0->ipympl) (0.8.4)\n",
      "Requirement already satisfied: testpath in c:\\users\\mjcquidilla\\anaconda3\\lib\\site-packages (from nbconvert->notebook>=4.4.1->widgetsnbextension~=3.5.0->ipywidgets>=7.5.0->ipympl) (0.4.4)\n",
      "Requirement already satisfied: defusedxml in c:\\users\\mjcquidilla\\anaconda3\\lib\\site-packages (from nbconvert->notebook>=4.4.1->widgetsnbextension~=3.5.0->ipywidgets>=7.5.0->ipympl) (0.6.0)\n",
      "Requirement already satisfied: MarkupSafe>=0.23 in c:\\users\\mjcquidilla\\anaconda3\\lib\\site-packages (from jinja2->notebook>=4.4.1->widgetsnbextension~=3.5.0->ipywidgets>=7.5.0->ipympl) (1.1.1)\n",
      "Requirement already satisfied: webencodings in c:\\users\\mjcquidilla\\anaconda3\\lib\\site-packages (from bleach->nbconvert->notebook>=4.4.1->widgetsnbextension~=3.5.0->ipywidgets>=7.5.0->ipympl) (0.5.1)\n",
      "Installing collected packages: ipympl\n",
      "Successfully installed ipympl-0.5.6\n"
     ]
    }
   ],
   "source": [
    "!pip install ipympl"
   ]
  },
  {
   "cell_type": "code",
   "execution_count": 5,
   "metadata": {},
   "outputs": [
    {
     "data": {
      "application/vnd.jupyter.widget-view+json": {
       "model_id": "a2c6d9e121944efc879e23a5e25252e5",
       "version_major": 2,
       "version_minor": 0
      },
      "text/plain": [
       "Canvas(toolbar=Toolbar(toolitems=[('Home', 'Reset original view', 'home', 'home'), ('Back', 'Back to previous …"
      ]
     },
     "metadata": {},
     "output_type": "display_data"
    }
   ],
   "source": [
    "%matplotlib widget\n",
    "import matplotlib.pyplot as plt \n",
    "from mpl_toolkits.mplot3d import Axes3D\n",
    "plt.style.use('fivethirtyeight')\n",
    "\n",
    "fig = plt.figure()\n",
    "ax = fig.add_subplot(111, projection = '3d')\n",
    "\n",
    "x = [0, 10]\n",
    "y = [2, 3]\n",
    "z = [3, 5]\n",
    "\n",
    "ax.plot(x,y,z, marker = 'o', linewidth = 1)\n",
    "plt.show()"
   ]
  },
  {
   "cell_type": "code",
   "execution_count": null,
   "metadata": {},
   "outputs": [],
   "source": []
  }
 ],
 "metadata": {
  "file_extension": ".py",
  "kernelspec": {
   "display_name": "Python 3",
   "language": "python",
   "name": "python3"
  },
  "language_info": {
   "codemirror_mode": {
    "name": "ipython",
    "version": 3
   },
   "file_extension": ".py",
   "mimetype": "text/x-python",
   "name": "python",
   "nbconvert_exporter": "python",
   "pygments_lexer": "ipython3",
   "version": "3.7.6"
  },
  "mimetype": "text/x-python",
  "name": "python",
  "npconvert_exporter": "python",
  "pygments_lexer": "ipython3",
  "version": 3
 },
 "nbformat": 4,
 "nbformat_minor": 4
}
