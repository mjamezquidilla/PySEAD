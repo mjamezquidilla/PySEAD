{
 "cells": [
  {
   "cell_type": "code",
   "execution_count": 19,
   "metadata": {},
   "outputs": [],
   "source": [
    "from Truss_2D import Truss_2D"
   ]
  },
  {
   "cell_type": "markdown",
   "metadata": {},
   "source": [
    "# Six Bar Truss \n",
    "### Steel truss optimization using genetic algorithms and FEA\n",
    "authors: Razvan Cazacu, Lucian Grama Petru"
   ]
  },
  {
   "cell_type": "code",
   "execution_count": null,
   "metadata": {},
   "outputs": [],
   "source": [
    "nodes = {1: [0,0], 2:[9,0], 3:[18,0], 4:[0,9], 5:[9,9], 6:[18,9]}\n",
    "members = {1:[1,2], 2:[2,3], 3:[4,5], 4:[5,6], 5:[4,2], 6:[1,5], 7:[5,3], 8:[2,6], 9:[1,4], 10:[2,5], 11:[3,6]}\n",
    "supports = {1:[1,1], 4:[1,1]}\n",
    "forces = {2:[0,-450], 3:[0,-450]}\n",
    "elasticity = {key: 130e6 for key in members}\n",
    "cross_section_area = {key:0.001 for key in members}"
   ]
  },
  {
   "cell_type": "code",
   "execution_count": null,
   "metadata": {},
   "outputs": [],
   "source": [
    "Six_bar_truss = Truss_2D(nodes = nodes,\n",
    "                         elements = members,\n",
    "                         supports = supports,\n",
    "                         forces = forces,\n",
    "                         elasticity = elasticity,\n",
    "                         cross_area = cross_section_area)"
   ]
  },
  {
   "cell_type": "code",
   "execution_count": null,
   "metadata": {},
   "outputs": [],
   "source": [
    "Six_bar_truss.Draw_Truss_Setup(figure_size=[10,6], length_of_arrow=1.5, width_of_arrow=0.3)"
   ]
  },
  {
   "cell_type": "code",
   "execution_count": null,
   "metadata": {},
   "outputs": [],
   "source": [
    "Six_bar_truss.Solve()"
   ]
  },
  {
   "cell_type": "code",
   "execution_count": null,
   "metadata": {},
   "outputs": [],
   "source": [
    "Six_bar_truss.displacements_"
   ]
  },
  {
   "cell_type": "code",
   "execution_count": null,
   "metadata": {},
   "outputs": [],
   "source": [
    "Six_bar_truss.member_forces_"
   ]
  },
  {
   "cell_type": "code",
   "execution_count": null,
   "metadata": {},
   "outputs": [],
   "source": [
    "Six_bar_truss.reactions_"
   ]
  },
  {
   "cell_type": "code",
   "execution_count": null,
   "metadata": {},
   "outputs": [],
   "source": [
    "Six_bar_truss.member_stresses_"
   ]
  },
  {
   "cell_type": "markdown",
   "metadata": {},
   "source": [
    "# Ten Bar Truss \n",
    "### Steel truss optimization using genetic algorithms and FEA\n",
    "authors: Razvan Cazacu, Lucian Grama Petru"
   ]
  },
  {
   "cell_type": "code",
   "execution_count": null,
   "metadata": {},
   "outputs": [],
   "source": [
    "nodes = {1:[0,0], 2:[6,0], 3:[12,0], 4:[18,0], 5:[24,0],\n",
    "         6:[0,6], 7:[6,6], 8:[12,6], 9:[18,6], 10:[24,6]}\n",
    "members = {1:[1,2], 2:[2,3], 3:[3,4], 4:[4,5],\n",
    "           5:[6,7], 6:[7,8], 7:[8,9], 8:[9,10],\n",
    "           9:[6,2], 10:[7,3], 11:[8,4], 12:[9,5], \n",
    "           13:[1,7], 14:[2,8], 15:[3,9], 16:[4,10],\n",
    "           17:[1,6], 18:[2,7], 19:[3,8], 20:[4,9], 21:[5,10]}\n",
    "supports = {1:[1,1], 5:[1,1]}\n",
    "forces = {6:[0,-50], 7:[0,-100], 8:[0,-100], 9:[0,-100], 10:[0,-50]}\n",
    "elasticity = {key: 200e6 for key in members}\n",
    "cross_section_area = {key:0.001 for key in members}"
   ]
  },
  {
   "cell_type": "code",
   "execution_count": null,
   "metadata": {},
   "outputs": [],
   "source": [
    "Ten_bar_truss = Truss_2D(nodes = nodes,\n",
    "                         elements = members,\n",
    "                         supports = supports,\n",
    "                         forces = forces,\n",
    "                         elasticity = elasticity,\n",
    "                         cross_area = cross_section_area)"
   ]
  },
  {
   "cell_type": "code",
   "execution_count": null,
   "metadata": {},
   "outputs": [],
   "source": [
    "Ten_bar_truss.Draw_Truss_Setup(figure_size=[16,8])"
   ]
  },
  {
   "cell_type": "code",
   "execution_count": null,
   "metadata": {},
   "outputs": [],
   "source": [
    "Ten_bar_truss.Solve()"
   ]
  },
  {
   "cell_type": "code",
   "execution_count": null,
   "metadata": {},
   "outputs": [],
   "source": [
    "Ten_bar_truss.reactions_"
   ]
  },
  {
   "cell_type": "code",
   "execution_count": null,
   "metadata": {},
   "outputs": [],
   "source": [
    "Ten_bar_truss.displacements_"
   ]
  },
  {
   "cell_type": "code",
   "execution_count": null,
   "metadata": {},
   "outputs": [],
   "source": [
    "Ten_bar_truss.member_forces_"
   ]
  },
  {
   "cell_type": "code",
   "execution_count": null,
   "metadata": {},
   "outputs": [],
   "source": [
    "Ten_bar_truss.member_stresses_"
   ]
  },
  {
   "cell_type": "code",
   "execution_count": null,
   "metadata": {},
   "outputs": [],
   "source": []
  }
 ],
 "metadata": {
  "kernelspec": {
   "display_name": "Python 3",
   "language": "python",
   "name": "python3"
  },
  "language_info": {
   "codemirror_mode": {
    "name": "ipython",
    "version": 3
   },
   "file_extension": ".py",
   "mimetype": "text/x-python",
   "name": "python",
   "nbconvert_exporter": "python",
   "pygments_lexer": "ipython3",
   "version": "3.7.4"
  }
 },
 "nbformat": 4,
 "nbformat_minor": 4
}
